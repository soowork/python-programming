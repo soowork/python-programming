{
 "cells": [
  {
   "cell_type": "code",
   "execution_count": 1,
   "metadata": {},
   "outputs": [
    {
     "name": "stdout",
     "output_type": "stream",
     "text": [
      "{'help': 'https://ckan0.cf.opendata.inter.sandbox-toronto.ca/api/3/action/help_show?name=package_show', 'success': True, 'result': {'owner_org': 'e0f90f38-d321-4546-90a9-d859757c1d3d', 'maintainer': '', 'version': '', 'owner_unit': '', 'relationships_as_object': [], 'topics': 'Locations and mapping', 'owner_email': 'opendata@toronto.ca', 'excerpt': 'Boundaries of Toronto Neighbourhoods.', 'private': False, 'maintainer_email': '', 'num_tags': 5, 'id': '2936fb89-6038-4343-903d-321f65e1e672', 'metadata_created': '2019-02-15T23:26:58.403246', 'pipeline_stage': 'Publication', 'metadata_modified': '2019-07-01T10:20:18.699191', 'author': '', 'author_email': '', 'owner_division': 'Social Development, Finance & Administration', 'license_url': 'http://www.opendefinition.org/licenses/cc-by', 'relationships_as_subject': [], 'approved_date': '', 'state': 'active', 'information_url': 'http://www.toronto.ca/demographics/neighbourhoods.htm', 'approved_by': '', 'require_legal': 'false', 'refresh_rate': 'As available', 'license_id': 'cc-by', 'type': 'dataset', 'resources': [{'cache_last_updated': None, 'package_id': '2936fb89-6038-4343-903d-321f65e1e672', 'datastore_active': False, 'id': '1d02b0f0-d735-4469-8f71-ea6d96b319e4', 'size': None, 'is_preview': 'true', 'state': 'active', 'hash': '', 'description': '', 'format': 'GeoJSON', 'mimetype_inner': None, 'url_type': 'datastore', 'mimetype': None, 'cache_url': None, 'extract_job': 'B1_Neighbourhoods', 'name': 'Neighbourhoods', 'created': '2019-03-15T17:02:11.577637', 'url': 'https://ckan0.cf.opendata.inter.sandbox-toronto.ca/datastore/dump/1d02b0f0-d735-4469-8f71-ea6d96b319e4', 'last_modified': '2019-07-01T10:20:17.000926', 'position': 0, 'revision_id': '871f4c24-85d4-4049-9ddd-444c4ac398e8', 'resource_type': None}], 'limitations': '', 'num_resources': 1, 'collection_method': '', 'tags': [{'vocabulary_id': None, 'state': 'active', 'display_name': 'neighbourhood', 'id': '1335d64c-f7ef-4431-8493-179fa2883f92', 'name': 'neighbourhood'}], 'title': 'Neighbourhoods', 'published_date': '', 'owner_section': '', 'groups': [], 'creator_user_id': '44f4b625-dc8d-4c2b-a72e-3b5c9ae072c0', 'dataset_category': 'Map', 'revision_id': 'ddce7519-cd91-41c7-9e2e-b1da2b65fae6', 'name': 'neighbourhoods', 'isopen': True, 'url': '', 'notes': 'Boundaries of City of Toronto Neighbourhoods.\\r\\n\\r\\n', 'license_title': 'Creative Commons Attribution', 'require_privacy': 'false', 'image_url': '', 'formats': ['GEOJSON', 'SHP', 'CSV'], 'is_retired': 'false', 'organization': {'description': '', 'title': 'City of Toronto', 'created': '2019-02-15T23:15:21.227222', 'approval_status': 'approved', 'is_organization': True, 'state': 'active', 'image_url': '', 'revision_id': '45489bb6-077b-48bd-a17b-49d20361812c', 'type': 'organization', 'id': 'e0f90f38-d321-4546-90a9-d859757c1d3d', 'name': 'city-of-toronto'}, 'owner_type': 'Official'}}\n"
     ]
    }
   ],
   "source": [
    "import urllib\n",
    "import json\n",
    "\n",
    "# Get the dataset metadata by passing package_id to the package_search endpoint\n",
    "# For example, to retrieve the metadata for this dataset:\n",
    "\n",
    "url = \"https://ckan0.cf.opendata.inter.sandbox-toronto.ca/api/3/action/package_show\"\n",
    "params = { \"id\": \"2936fb89-6038-4343-903d-321f65e1e672\"}\n",
    "response = urllib.request.urlopen(url, data=bytes(json.dumps(params), encoding=\"utf-8\"))\n",
    "package = json.loads(response.read())\n",
    "print(package)"
   ]
  },
  {
   "cell_type": "code",
   "execution_count": 2,
   "metadata": {},
   "outputs": [
    {
     "data": {
      "text/plain": [
       "<http.client.HTTPResponse at 0x1e3fdf35470>"
      ]
     },
     "execution_count": 2,
     "metadata": {},
     "output_type": "execute_result"
    }
   ],
   "source": [
    "response\n"
   ]
  },
  {
   "cell_type": "code",
   "execution_count": null,
   "metadata": {},
   "outputs": [],
   "source": []
  }
 ],
 "metadata": {
  "kernelspec": {
   "display_name": "Python 3",
   "language": "python",
   "name": "python3"
  },
  "language_info": {
   "codemirror_mode": {
    "name": "ipython",
    "version": 3
   },
   "file_extension": ".py",
   "mimetype": "text/x-python",
   "name": "python",
   "nbconvert_exporter": "python",
   "pygments_lexer": "ipython3",
   "version": "3.7.3"
  }
 },
 "nbformat": 4,
 "nbformat_minor": 2
}
