{
 "cells": [
  {
   "cell_type": "code",
   "execution_count": 2,
   "metadata": {},
   "outputs": [],
   "source": [
    "import pandas as pd\n",
    "\n"
   ]
  },
  {
   "cell_type": "code",
   "execution_count": 3,
   "metadata": {},
   "outputs": [],
   "source": [
    "homicides = pd.read_csv('Homicide.csv')"
   ]
  },
  {
   "cell_type": "code",
   "execution_count": 12,
   "metadata": {},
   "outputs": [
    {
     "data": {
      "text/plain": [
       "(1015, 13)"
      ]
     },
     "execution_count": 12,
     "metadata": {},
     "output_type": "execute_result"
    }
   ],
   "source": [
    "#how many rows are in the dataset?\n",
    "# 1015 rows, 13 columns\n",
    "homicides.shape"
   ]
  },
  {
   "cell_type": "code",
   "execution_count": 14,
   "metadata": {},
   "outputs": [
    {
     "data": {
      "text/plain": [
       "X                  float64\n",
       "Y                  float64\n",
       "Index_               int64\n",
       "Event_Unique_ID     object\n",
       "Occurrence_year      int64\n",
       "Division            object\n",
       "Homicide_Type       object\n",
       "Occurrence_Date     object\n",
       "Hood_ID              int64\n",
       "Neighbourhood       object\n",
       "Lat                float64\n",
       "Long               float64\n",
       "ObjectId             int64\n",
       "dtype: object"
      ]
     },
     "execution_count": 14,
     "metadata": {},
     "output_type": "execute_result"
    }
   ],
   "source": [
    "#list the columns\n",
    "# homicides.head() - shows the data\n",
    "homicides.dtypes"
   ]
  },
  {
   "cell_type": "code",
   "execution_count": 13,
   "metadata": {},
   "outputs": [],
   "source": [
    "#replace the default index with the values of the 'Index_' column"
   ]
  },
  {
   "cell_type": "code",
   "execution_count": 15,
   "metadata": {},
   "outputs": [
    {
     "data": {
      "text/plain": [
       "Shooting    526\n",
       "Other       263\n",
       "Stabbing    226\n",
       "Name: Homicide_Type, dtype: int64"
      ]
     },
     "execution_count": 15,
     "metadata": {},
     "output_type": "execute_result"
    }
   ],
   "source": [
    "#list the types of homicides in the order of their frequency (most to least)\n",
    "# homicides['Homicide_Type'] -- this is a series\n",
    "# homicides[['Homicide_Type']] -- this is a data frame\n",
    "# value_counts only works on a series\n",
    "homicides['Homicide_Type'].value_counts()"
   ]
  },
  {
   "cell_type": "code",
   "execution_count": 21,
   "metadata": {},
   "outputs": [
    {
     "data": {
      "text/plain": [
       "2005    53\n",
       "2018    51\n",
       "2007    44\n",
       "2016    41\n",
       "2017    39\n",
       "2009    37\n",
       "2008    37\n",
       "2012    34\n",
       "2010    32\n",
       "2006    29\n",
       "2011    28\n",
       "2014    27\n",
       "2015    26\n",
       "2004    26\n",
       "2013    22\n",
       "Name: Occurrence_year, dtype: int64"
      ]
     },
     "execution_count": 21,
     "metadata": {},
     "output_type": "execute_result"
    }
   ],
   "source": [
    "#find the year with the highest number of shootings\n",
    "homicides[homicides['Homicide_Type']=='Shooting']['Occurrence_year'].value_counts()"
   ]
  },
  {
   "cell_type": "code",
   "execution_count": 23,
   "metadata": {},
   "outputs": [
    {
     "data": {
      "text/plain": [
       "Downsview-Roding-CFB (26)                   8\n",
       "South Riverdale (70)                        7\n",
       "Thorncliffe Park (55)                       5\n",
       "O'Connor-Parkview (54)                      5\n",
       "Dovercourt-Wallace Emerson-Junction (93)    5\n",
       "Woburn (137)                                5\n",
       "Glenfield-Jane Heights (25)                 5\n",
       "Mount Olive-Silverstone-Jamestown (2)       5\n",
       "L'Amoreaux (117)                            4\n",
       "Birchcliffe-Cliffside (122)                 4\n",
       "Rouge (131)                                 4\n",
       "Bay Street Corridor (76)                    4\n",
       "Rockcliffe-Smythe (111)                     4\n",
       "Wexford/Maryvale (119)                      4\n",
       "Morningside (135)                           4\n",
       "West Hill (136)                             4\n",
       "Church-Yonge Corridor (75)                  4\n",
       "Annex (95)                                  4\n",
       "Danforth (66)                               4\n",
       "Cabbagetown-South St.James Town (71)        4\n",
       "Moss Park (73)                              4\n",
       "North St.James Town (74)                    4\n",
       "York University Heights (27)                3\n",
       "Eringate-Centennial-West Deane (11)         3\n",
       "Stonegate-Queensway (16)                    3\n",
       "Etobicoke West Mall (13)                    3\n",
       "Islington-City Centre West (14)             3\n",
       "Victoria Village (43)                       3\n",
       "Rustic (28)                                 3\n",
       "Bendale (127)                               3\n",
       "                                           ..\n",
       "Mount Dennis (115)                          1\n",
       "Bedford Park-Nortown (39)                   1\n",
       "Oakwood Village (107)                       1\n",
       "Trinity-Bellwoods (81)                      1\n",
       "St.Andrew-Windfields (40)                   1\n",
       "Alderwood (20)                              1\n",
       "Humber Heights-Westmount (8)                1\n",
       "Briar Hill-Belgravia (108)                  1\n",
       "Agincourt South-Malvern West (128)          1\n",
       "Casa Loma (96)                              1\n",
       "South Parkdale (85)                         1\n",
       "West Humber-Clairville (1)                  1\n",
       "Lansing-Westgate (38)                       1\n",
       "Woodbine Corridor (64)                      1\n",
       "Playter Estates-Danforth (67)               1\n",
       "High Park-Swansea (87)                      1\n",
       "Ionview (125)                               1\n",
       "Niagara (82)                                1\n",
       "Milliken (130)                              1\n",
       "Agincourt North (129)                       1\n",
       "Englemount-Lawrence (32)                    1\n",
       "Little Portugal (84)                        1\n",
       "Runnymede-Bloor West Village (89)           1\n",
       "Rexdale-Kipling (4)                         1\n",
       "Rosedale-Moore Park (98)                    1\n",
       "Clanton Park (33)                           1\n",
       "Henry Farm (53)                             1\n",
       "Bathurst Manor (34)                         1\n",
       "Regent Park (72)                            1\n",
       "Hillcrest Village (48)                      1\n",
       "Name: Neighbourhood, Length: 97, dtype: int64"
      ]
     },
     "execution_count": 23,
     "metadata": {},
     "output_type": "execute_result"
    }
   ],
   "source": [
    "#which neighborhood had the highest number of stabbings\n",
    "homicides[homicides['Homicide_Type']=='Stabbing']['Neighbourhood'].value_counts()"
   ]
  },
  {
   "cell_type": "code",
   "execution_count": 103,
   "metadata": {},
   "outputs": [
    {
     "data": {
      "text/plain": [
       "Lawrence Park North (105)     2\n",
       "Newtonbrook West (36)         1\n",
       "Yonge-Eglinton (100)          1\n",
       "Kingsway South (15)           1\n",
       "Bayview Woods-Steeles (49)    1\n",
       "Name: Neighbourhood, dtype: int64"
      ]
     },
     "execution_count": 103,
     "metadata": {},
     "output_type": "execute_result"
    }
   ],
   "source": [
    "#list the five safest neighborhoods\n",
    "# princeton's approach\n",
    "# homicides.groupby('Neighbourhood')[['Homicide_Type']].count().sort_values(by='Homicide_Type').head(5)\n",
    "# sue's\n",
    "# homicides.groupby(['Neighbourhood']).count().sort_values(by='X').head(5)\n",
    "# Mayanks's\n",
    "homicides['Neighbourhood'].value_counts().tail(5)"
   ]
  },
  {
   "cell_type": "code",
   "execution_count": 100,
   "metadata": {},
   "outputs": [
    {
     "name": "stdout",
     "output_type": "stream",
     "text": [
      "worst --      month  counts\n",
      "0  2018-04      13\n",
      "best --       month  counts\n",
      "11  2018-02       3\n"
     ]
    }
   ],
   "source": [
    "#for 2018, list the months with the highest and lowest homicides\n",
    "# homicides[homicides['Occurrence_year']==2018]['Occurrence_Date'].dt.month\n",
    "#  df['ArrivalDate'].dt.month\n",
    "# df['ArrivalDate'] = pandas.to_datetime(df['ArrivalDate'])\n",
    "# df['StateInitial'] = df['state'].str[:2]\n",
    "# ----\n",
    "# df = value_counts.rename_axis('unique_values').reset_index(name='counts')\n",
    "# print (df)\n",
    "# Use rename_axis for name of column from index and reset_index:\n",
    "#  unique_values  counts\n",
    "# 0              2       3\n",
    "# 1              1       2\n",
    "# -----------------\n",
    "#  a[start:stop]  # items start through stop-1\n",
    "#  a[start:]      # items start through the rest of the array\n",
    "#  a[:stop]       # items from the beginning through stop-1\n",
    "#  a[:]           # a copy of the whole array\n",
    "#  There is also the step value, which can be used with any of the above:\n",
    "#  \n",
    "#  a[start:stop:step] # start through not past stop, by step\n",
    "# ----------------------------\n",
    "# this works - gives YYYY-MM\n",
    "df = homicides[homicides['Occurrence_year']==2018]['Occurrence_Date'].str[:7].value_counts().rename_axis('month').reset_index(name='counts')\n",
    "# this uses just the 2 digit month\n",
    "# df = homicides[homicides['Occurrence_year']==2018]['Occurrence_Date'].str[5:7].value_counts().rename_axis('month').reset_index(name='counts')\n",
    "print('worst --',df.head(1))\n",
    "print('best --',df.tail(1))"
   ]
  },
  {
   "cell_type": "code",
   "execution_count": 28,
   "metadata": {},
   "outputs": [],
   "source": [
    "#show on a map, your five safest neighborhoods"
   ]
  },
  {
   "cell_type": "code",
   "execution_count": null,
   "metadata": {},
   "outputs": [],
   "source": [
    "#plot the dataset on a map\n",
    "# will need to import another library"
   ]
  },
  {
   "cell_type": "code",
   "execution_count": 106,
   "metadata": {},
   "outputs": [
    {
     "data": {
      "text/plain": [
       "Occurrence_year    0       2004\\n1       2004\\n2       2004\\n3   ...\n",
       "dtype: object"
      ]
     },
     "execution_count": 106,
     "metadata": {},
     "output_type": "execute_result"
    }
   ],
   "source": [
    "# transform our year column - add 'y' to the end of the year\n",
    "# we didn't get this working but I think answer might be here https://thispointer.com/pandas-apply-apply-a-function-to-each-row-column-in-dataframe/\n",
    "\n",
    "def change_year(value):\n",
    "    try:\n",
    "        return str(value)+'y'\n",
    "    except:\n",
    "        return '----'\n",
    "\n",
    "modified = homicides[['Occurrence_year']].apply(change_year)"
   ]
  },
  {
   "cell_type": "code",
   "execution_count": null,
   "metadata": {},
   "outputs": [],
   "source": []
  }
 ],
 "metadata": {
  "kernelspec": {
   "display_name": "Python 3",
   "language": "python",
   "name": "python3"
  },
  "language_info": {
   "codemirror_mode": {
    "name": "ipython",
    "version": 3
   },
   "file_extension": ".py",
   "mimetype": "text/x-python",
   "name": "python",
   "nbconvert_exporter": "python",
   "pygments_lexer": "ipython3",
   "version": "3.7.3"
  }
 },
 "nbformat": 4,
 "nbformat_minor": 2
}
